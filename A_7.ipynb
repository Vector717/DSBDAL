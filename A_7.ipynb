{
  "nbformat": 4,
  "nbformat_minor": 0,
  "metadata": {
    "colab": {
      "provenance": []
    },
    "kernelspec": {
      "name": "python3",
      "display_name": "Python 3"
    },
    "language_info": {
      "name": "python"
    }
  },
  "cells": [
    {
      "cell_type": "code",
      "source": [
        "import nltk"
      ],
      "metadata": {
        "id": "Iljj8ArU2p1i"
      },
      "execution_count": null,
      "outputs": []
    },
    {
      "cell_type": "code",
      "execution_count": null,
      "metadata": {
        "colab": {
          "base_uri": "https://localhost:8080/"
        },
        "id": "NJ-JJZ7Q16sL",
        "outputId": "0a56b8dc-609a-4d75-a9b5-25ed5e56214d"
      },
      "outputs": [
        {
          "output_type": "stream",
          "name": "stderr",
          "text": [
            "[nltk_data] Downloading package punkt to /root/nltk_data...\n",
            "[nltk_data]   Unzipping tokenizers/punkt.zip.\n",
            "[nltk_data] Downloading package stopwords to /root/nltk_data...\n",
            "[nltk_data]   Unzipping corpora/stopwords.zip.\n",
            "[nltk_data] Downloading package wordnet to /root/nltk_data...\n",
            "[nltk_data] Downloading package averaged_perceptron_tagger to\n",
            "[nltk_data]     /root/nltk_data...\n",
            "[nltk_data]   Unzipping taggers/averaged_perceptron_tagger.zip.\n"
          ]
        },
        {
          "output_type": "execute_result",
          "data": {
            "text/plain": [
              "True"
            ]
          },
          "metadata": {},
          "execution_count": 2
        }
      ],
      "source": [
        "nltk.download('punkt')\n",
        "nltk.download('stopwords')\n",
        "nltk.download('wordnet')\n",
        "nltk.download('averaged_perceptron_tagger')"
      ]
    },
    {
      "cell_type": "code",
      "source": [
        "text= \"Tokenization is the first step in text analytics. The process of breaking down a text paragraph into smaller chunks such as words or sentences is called Tokenization.\""
      ],
      "metadata": {
        "id": "tBuDT0Mw2p4B"
      },
      "execution_count": null,
      "outputs": []
    },
    {
      "cell_type": "code",
      "source": [
        "#Sentence Tokenization\n",
        "from nltk.tokenize import sent_tokenize\n",
        "tokenized_text= sent_tokenize(text)\n",
        "print(tokenized_text)\n",
        "\n",
        "#Word Tokenization\n",
        "from nltk.tokenize import word_tokenize\n",
        "tokenized_word=word_tokenize(text)\n",
        "print(tokenized_word)"
      ],
      "metadata": {
        "colab": {
          "base_uri": "https://localhost:8080/"
        },
        "id": "O68UWfKq2p6p",
        "outputId": "9d9b4d49-2834-45dd-c41d-7d6b29bb13af"
      },
      "execution_count": null,
      "outputs": [
        {
          "output_type": "stream",
          "name": "stdout",
          "text": [
            "['Tokenization is the first step in text analytics.', 'The process of breaking down a text paragraph into smaller chunks such as words or sentences is called Tokenization.']\n",
            "['Tokenization', 'is', 'the', 'first', 'step', 'in', 'text', 'analytics', '.', 'The', 'process', 'of', 'breaking', 'down', 'a', 'text', 'paragraph', 'into', 'smaller', 'chunks', 'such', 'as', 'words', 'or', 'sentences', 'is', 'called', 'Tokenization', '.']\n"
          ]
        }
      ]
    },
    {
      "cell_type": "code",
      "source": [
        "# print stop words of English\n",
        "import re\n",
        "from nltk.corpus import stopwords\n",
        "stop_words=set(stopwords.words(\"english\"))\n",
        "print(stop_words)\n",
        "text= \"How to remove stop words with NLTK library in Python?\"\n",
        "text= re.sub('[^a-zA-Z]', ' ',text)\n",
        "tokens = word_tokenize(text.lower())\n",
        "filtered_text=[]\n",
        "for w in tokens:\n",
        "  if w not in stop_words:\n",
        "    filtered_text.append(w)\n",
        "print(\"Tokenized Sentence:\",tokens)\n",
        "print(\"Filterd Sentence:\",filtered_text)"
      ],
      "metadata": {
        "colab": {
          "base_uri": "https://localhost:8080/"
        },
        "id": "SIGFjOGe2p9B",
        "outputId": "9b331e1e-8b5f-4db7-a16d-23b952b1601d"
      },
      "execution_count": null,
      "outputs": [
        {
          "output_type": "stream",
          "name": "stdout",
          "text": [
            "{\"shouldn't\", 'myself', 'do', 'why', 'her', 'had', 'those', 'doesn', 'are', 'out', 're', 've', 'y', 'his', 'ma', 'having', 'hadn', 'on', \"didn't\", 'mustn', \"isn't\", 'does', 'in', 'we', \"hasn't\", 'ours', 'me', 'wouldn', 'ain', 'shouldn', 'a', 'an', 'into', 'd', 'herself', 'no', 'should', 'above', 'mightn', \"you're\", 'own', 'too', 'themselves', 'don', 'about', 'now', \"doesn't\", 'she', 'that', 'where', \"aren't\", 'he', \"she's\", 'after', 'through', 'was', 'by', 'between', 'both', \"hadn't\", 'have', 'same', 'yourself', 'were', \"it's\", \"you'd\", 'such', 'our', 'before', 'there', 'just', 'did', 'with', 'if', \"you've\", 'your', 'you', 'while', 'them', 'my', 'the', 'against', 'under', \"mustn't\", 'i', 'haven', 'very', \"couldn't\", 'all', 'who', 'until', \"wasn't\", 'of', 'yourselves', 'then', 'wasn', \"don't\", \"mightn't\", 'again', 'for', 'few', 'ourselves', 'him', 'himself', 'needn', \"that'll\", 'further', 'their', 'so', 'or', 'll', 'more', \"shan't\", 't', \"haven't\", 'some', 'it', 'to', 'this', 'down', 'is', 'only', 'hers', 'doing', 'been', 'they', 'and', 'theirs', 'up', 'any', 'once', \"weren't\", 'when', 'as', 'aren', 'whom', 'has', 'am', 'from', 'shan', 'most', 'can', \"won't\", 'at', 'off', 'other', 'how', 'these', 'here', 'being', 'couldn', 'weren', 'over', 'isn', 'but', 'which', 'its', 'o', 's', 'not', 'below', \"you'll\", 'during', 'each', \"needn't\", 'than', 'm', 'will', 'because', 'what', \"should've\", 'yours', 'didn', \"wouldn't\", 'be', 'nor', 'hasn', 'won', 'itself'}\n",
            "Tokenized Sentence: ['how', 'to', 'remove', 'stop', 'words', 'with', 'nltk', 'library', 'in', 'python']\n",
            "Filterd Sentence: ['remove', 'stop', 'words', 'nltk', 'library', 'python']\n"
          ]
        }
      ]
    },
    {
      "cell_type": "code",
      "source": [
        "from nltk.stem import PorterStemmer\n",
        "e_words= [\"wait\", \"waiting\", \"waited\", \"waits\"]\n",
        "ps =PorterStemmer()\n",
        "for w in e_words:\n",
        "    rootWord=ps.stem(w)\n",
        "print(rootWord)"
      ],
      "metadata": {
        "colab": {
          "base_uri": "https://localhost:8080/"
        },
        "id": "eJz0TVHi2p_q",
        "outputId": "0fc47a5f-35fe-4534-faa8-d4f416f258a4"
      },
      "execution_count": null,
      "outputs": [
        {
          "output_type": "stream",
          "name": "stdout",
          "text": [
            "wait\n"
          ]
        }
      ]
    },
    {
      "cell_type": "code",
      "source": [
        "from nltk.stem import WordNetLemmatizer\n",
        "wordnet_lemmatizer = WordNetLemmatizer()\n",
        "text = \"studies studying cries cry\"\n",
        "tokenization = nltk.word_tokenize(text)\n",
        "for w in tokenization:\n",
        "  print(\"Lemma for {} is {}\".format(w,\n",
        "wordnet_lemmatizer.lemmatize(w)))"
      ],
      "metadata": {
        "colab": {
          "base_uri": "https://localhost:8080/"
        },
        "id": "SyVuoo7W38p_",
        "outputId": "f0af8097-9c8c-4832-8898-4f9b5e3210b1"
      },
      "execution_count": null,
      "outputs": [
        {
          "output_type": "stream",
          "name": "stdout",
          "text": [
            "Lemma for studies is study\n",
            "Lemma for studying is studying\n",
            "Lemma for cries is cry\n",
            "Lemma for cry is cry\n"
          ]
        }
      ]
    },
    {
      "cell_type": "code",
      "source": [
        "import nltk\n",
        "from nltk.tokenize import word_tokenize\n",
        "data=\"The pink sweater fit her perfectly\"\n",
        "words=word_tokenize(data)\n",
        "for word in words:\n",
        "  print(nltk.pos_tag([word]))"
      ],
      "metadata": {
        "colab": {
          "base_uri": "https://localhost:8080/"
        },
        "id": "yNdSKUCg38sY",
        "outputId": "5c332a7e-9680-49a6-b9b4-0eb9d6c94172"
      },
      "execution_count": null,
      "outputs": [
        {
          "output_type": "stream",
          "name": "stdout",
          "text": [
            "[('The', 'DT')]\n",
            "[('pink', 'NN')]\n",
            "[('sweater', 'NN')]\n",
            "[('fit', 'NN')]\n",
            "[('her', 'PRP$')]\n",
            "[('perfectly', 'RB')]\n"
          ]
        }
      ]
    },
    {
      "cell_type": "code",
      "source": [
        "import pandas as pd\n",
        "from sklearn.feature_extraction.text import TfidfVectorizer"
      ],
      "metadata": {
        "id": "r30v9JpS38u-"
      },
      "execution_count": null,
      "outputs": []
    },
    {
      "cell_type": "code",
      "source": [
        "documentA = 'Jupiter is the largest Planet'\n",
        "documentB = 'Mars is the fourth planet from the Sun'"
      ],
      "metadata": {
        "id": "sbufvTUU38xm"
      },
      "execution_count": null,
      "outputs": []
    },
    {
      "cell_type": "code",
      "source": [
        "bagOfWordsA = documentA.split(' ')\n",
        "bagOfWordsB = documentB.split(' ')"
      ],
      "metadata": {
        "id": "jqxzttfp38z6"
      },
      "execution_count": null,
      "outputs": []
    },
    {
      "cell_type": "code",
      "source": [
        "uniqueWords = set(bagOfWordsA).union(set(bagOfWordsB))"
      ],
      "metadata": {
        "id": "uLUS0hOu4Sed"
      },
      "execution_count": null,
      "outputs": []
    },
    {
      "cell_type": "code",
      "source": [
        "numOfWordsA = dict.fromkeys(uniqueWords, 0)\n",
        "for word in bagOfWordsA:\n",
        "  numOfWordsA[word] += 1\n",
        "  numOfWordsB = dict.fromkeys(uniqueWords, 0)\n",
        "for word in bagOfWordsB:\n",
        "  numOfWordsB[word] += 1\n",
        "\n",
        "numOfWordsA"
      ],
      "metadata": {
        "id": "z9KrVL6w4ShL",
        "colab": {
          "base_uri": "https://localhost:8080/"
        },
        "outputId": "3e8e0462-4bdf-4df6-9fa1-441c85b79bad"
      },
      "execution_count": null,
      "outputs": [
        {
          "output_type": "execute_result",
          "data": {
            "text/plain": [
              "{'from': 0,\n",
              " 'Planet': 1,\n",
              " 'Mars': 0,\n",
              " 'planet': 0,\n",
              " 'Jupiter': 1,\n",
              " 'largest': 1,\n",
              " 'Sun': 0,\n",
              " 'is': 1,\n",
              " 'fourth': 0,\n",
              " 'the': 1}"
            ]
          },
          "metadata": {},
          "execution_count": 18
        }
      ]
    },
    {
      "cell_type": "code",
      "source": [
        "def computeTF(wordDict, bagOfWords):\n",
        "  tfDict = {}\n",
        "  bagOfWordsCount = len(bagOfWords)\n",
        "  for word, count in wordDict.items():\n",
        "    tfDict[word] = count / float(bagOfWordsCount)\n",
        "  return tfDict\n",
        "tfA = computeTF(numOfWordsA, bagOfWordsA)\n",
        "tfB = computeTF(numOfWordsB, bagOfWordsB)\n",
        "\n",
        "print(tfA)\n",
        "print(tfB)"
      ],
      "metadata": {
        "id": "VI7EekZi4Sjc",
        "colab": {
          "base_uri": "https://localhost:8080/"
        },
        "outputId": "40fedb99-f140-4d4d-a54b-167862e0c02c"
      },
      "execution_count": null,
      "outputs": [
        {
          "output_type": "stream",
          "name": "stdout",
          "text": [
            "{'from': 0.0, 'Planet': 0.2, 'Mars': 0.0, 'planet': 0.0, 'Jupiter': 0.2, 'largest': 0.2, 'Sun': 0.0, 'is': 0.2, 'fourth': 0.0, 'the': 0.2}\n",
            "{'from': 0.125, 'Planet': 0.0, 'Mars': 0.125, 'planet': 0.125, 'Jupiter': 0.0, 'largest': 0.0, 'Sun': 0.125, 'is': 0.125, 'fourth': 0.125, 'the': 0.25}\n"
          ]
        }
      ]
    },
    {
      "cell_type": "code",
      "source": [
        "def computeIDF(documents):\n",
        "  import math\n",
        "  N = len(documents)\n",
        "  idfDict = dict.fromkeys(documents[0].keys(), 0)\n",
        "  for document in documents:\n",
        "    for word, val in document.items():\n",
        "      if val > 0:\n",
        "        \n",
        "        idfDict[word] += 1\n",
        "  for word, val in idfDict.items():\n",
        "    idfDict[word] = math.log(N / float(val))\n",
        "    return idfDict\n",
        "idfs = computeIDF([numOfWordsA, numOfWordsB])\n",
        "print(idfs)"
      ],
      "metadata": {
        "id": "0DgzMTtb4Slq",
        "colab": {
          "base_uri": "https://localhost:8080/"
        },
        "outputId": "ead07da0-8dcc-45e4-99b5-70f569b66f62"
      },
      "execution_count": null,
      "outputs": [
        {
          "output_type": "stream",
          "name": "stdout",
          "text": [
            "{'from': 0.6931471805599453, 'Planet': 1, 'Mars': 1, 'planet': 1, 'Jupiter': 1, 'largest': 1, 'Sun': 1, 'is': 2, 'fourth': 1, 'the': 2}\n"
          ]
        }
      ]
    }
  ]
}